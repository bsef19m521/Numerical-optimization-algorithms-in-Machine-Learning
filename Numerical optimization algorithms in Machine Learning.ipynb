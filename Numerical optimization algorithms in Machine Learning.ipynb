{
 "cells": [
  {
   "cell_type": "markdown",
   "id": "4f8e1cdf",
   "metadata": {},
   "source": [
    "\n",
    "<h1 align=center> Numerical optimization algorithms in Machine Learning </h1> \n",
    "\n",
    "\n",
    "\n",
    "\n",
    "\n",
    "<p align=\"center\"><div class=\"alert alert-success\" style=\"margin: 20px\"> <b> Optimization algorithms are mathematical procedures used in machine learning and other fields to find the best solution to a problem by minimizing or maximizing an objective function. In other words, they help us find the best set of parameters that will make our model perform better on a given task.</b> </div></p>\n",
    "\n",
    "\n",
    "\n",
    "<br>\n",
    "<br>\n",
    "<br>\n",
    "\n",
    "\n",
    "**Why we need Optimization Algorithms**\n",
    "\n",
    "<br>\n",
    "\n",
    "- We need optimization algorithms in many cases because the objective function that we want to optimize cannot be solved analytically or is too complex to find the optimal solution by trial and error. Optimization algorithms provide us with a systematic and efficient way to search for the best solution.\n",
    "    "
   ]
  },
  {
   "cell_type": "code",
   "execution_count": null,
   "id": "15fac527",
   "metadata": {},
   "outputs": [],
   "source": []
  },
  {
   "cell_type": "code",
   "execution_count": null,
   "id": "e414684a",
   "metadata": {},
   "outputs": [],
   "source": []
  },
  {
   "cell_type": "code",
   "execution_count": null,
   "id": "7687523e",
   "metadata": {},
   "outputs": [],
   "source": []
  },
  {
   "cell_type": "markdown",
   "id": "4ca37fb7",
   "metadata": {},
   "source": [
    "### Numerical Optimization Algorithms used in Machine Learning:\n",
    "\n",
    "- Gradient Descent\n",
    "- Stochastic Gradient Descent\n",
    "- Mini-batch Gradient Descent\n",
    "- Adam (Adaptive Moment Estimation)\n",
    "- Adagrad (Adaptive Gradient Algorithm)\n",
    "- Adadelta (Adaptive Delta)\n",
    "- RMSprop (Root Mean Square Propagation)\n",
    "- Newton's Method"
   ]
  },
  {
   "cell_type": "code",
   "execution_count": null,
   "id": "c49f10ad",
   "metadata": {},
   "outputs": [],
   "source": []
  },
  {
   "cell_type": "code",
   "execution_count": 81,
   "id": "51c2d22d",
   "metadata": {},
   "outputs": [],
   "source": [
    "#import all libraries\n",
    "import pandas as pd\n",
    "import numpy as np\n",
    "import seaborn as sns\n",
    "import matplotlib.pyplot as plt\n",
    "import warnings\n",
    "warnings.filterwarnings('ignore')"
   ]
  },
  {
   "cell_type": "code",
   "execution_count": null,
   "id": "9b0816c6",
   "metadata": {},
   "outputs": [],
   "source": []
  },
  {
   "cell_type": "code",
   "execution_count": 83,
   "id": "6e5c9c33",
   "metadata": {},
   "outputs": [
    {
     "data": {
      "text/html": [
       "<div>\n",
       "<style scoped>\n",
       "    .dataframe tbody tr th:only-of-type {\n",
       "        vertical-align: middle;\n",
       "    }\n",
       "\n",
       "    .dataframe tbody tr th {\n",
       "        vertical-align: top;\n",
       "    }\n",
       "\n",
       "    .dataframe thead th {\n",
       "        text-align: right;\n",
       "    }\n",
       "</style>\n",
       "<table border=\"1\" class=\"dataframe\">\n",
       "  <thead>\n",
       "    <tr style=\"text-align: right;\">\n",
       "      <th></th>\n",
       "      <th>number_courses</th>\n",
       "      <th>time_study</th>\n",
       "      <th>Marks</th>\n",
       "    </tr>\n",
       "  </thead>\n",
       "  <tbody>\n",
       "    <tr>\n",
       "      <th>0</th>\n",
       "      <td>3</td>\n",
       "      <td>4.508</td>\n",
       "      <td>19.202</td>\n",
       "    </tr>\n",
       "    <tr>\n",
       "      <th>1</th>\n",
       "      <td>4</td>\n",
       "      <td>0.096</td>\n",
       "      <td>7.734</td>\n",
       "    </tr>\n",
       "    <tr>\n",
       "      <th>2</th>\n",
       "      <td>4</td>\n",
       "      <td>3.133</td>\n",
       "      <td>13.811</td>\n",
       "    </tr>\n",
       "    <tr>\n",
       "      <th>3</th>\n",
       "      <td>6</td>\n",
       "      <td>7.909</td>\n",
       "      <td>53.018</td>\n",
       "    </tr>\n",
       "    <tr>\n",
       "      <th>4</th>\n",
       "      <td>8</td>\n",
       "      <td>7.811</td>\n",
       "      <td>55.299</td>\n",
       "    </tr>\n",
       "  </tbody>\n",
       "</table>\n",
       "</div>"
      ],
      "text/plain": [
       "   number_courses  time_study   Marks\n",
       "0               3       4.508  19.202\n",
       "1               4       0.096   7.734\n",
       "2               4       3.133  13.811\n",
       "3               6       7.909  53.018\n",
       "4               8       7.811  55.299"
      ]
     },
     "execution_count": 83,
     "metadata": {},
     "output_type": "execute_result"
    }
   ],
   "source": [
    "#read dataset\n",
    "df = pd.read_csv('datasets/Student_Marks.csv')\n",
    "df.head()"
   ]
  },
  {
   "cell_type": "code",
   "execution_count": 7,
   "id": "4cc90a4f",
   "metadata": {},
   "outputs": [],
   "source": [
    "### Dataset Description\n",
    "\n",
    "#  number_courses: Number of Courses Opted by the student\n",
    "#  time_study: Average Time Studied per day by the student\n",
    "#  Marks: Marks Obtained by the student"
   ]
  },
  {
   "cell_type": "code",
   "execution_count": null,
   "id": "8fbb82d7",
   "metadata": {},
   "outputs": [],
   "source": []
  },
  {
   "cell_type": "code",
   "execution_count": null,
   "id": "5932af2d",
   "metadata": {},
   "outputs": [],
   "source": []
  },
  {
   "cell_type": "code",
   "execution_count": null,
   "id": "49b6b9e8",
   "metadata": {},
   "outputs": [],
   "source": []
  },
  {
   "cell_type": "code",
   "execution_count": null,
   "id": "7fc8d564",
   "metadata": {},
   "outputs": [],
   "source": []
  },
  {
   "cell_type": "code",
   "execution_count": null,
   "id": "ed57d182",
   "metadata": {},
   "outputs": [],
   "source": []
  },
  {
   "cell_type": "markdown",
   "id": "660ebb6b",
   "metadata": {},
   "source": [
    "### Gradient Descent:\n",
    "\n",
    "\\begin{equation}\n",
    "w_{t+1} = w_t - \\alpha \\nabla f(w_t)\n",
    "\\end{equation}\n",
    "\n",
    "where \n",
    "- $w_t$ is the weight vector at time $t$\n",
    "- $\\alpha$ is the learning rate\n",
    "- $\\nabla f(w_t)$ is the gradient of the loss function $f$ with respect to $w_t$.\n",
    "\n",
    "\n",
    "<img src=\"images/GD1.png\" height=700px width=700px>\n"
   ]
  },
  {
   "cell_type": "code",
   "execution_count": null,
   "id": "1954dbd4",
   "metadata": {},
   "outputs": [],
   "source": []
  },
  {
   "cell_type": "markdown",
   "id": "224da86b",
   "metadata": {},
   "source": [
    "**Our linear Regression Model Equation is this case**\n",
    "\n",
    "$$ \\mathbf{ \\hat{y}= f(x) = w_0 + w_1x_1 + w_2x_2 } $$"
   ]
  },
  {
   "cell_type": "code",
   "execution_count": 87,
   "id": "9af18ed5",
   "metadata": {},
   "outputs": [],
   "source": [
    "# first input feature\n",
    "x1 = df.number_courses.values\n",
    "\n",
    "# second input feature\n",
    "x2 = df.time_study.values\n",
    "\n",
    "\n",
    "# output feature\n",
    "\n",
    "y = df.Marks.values"
   ]
  },
  {
   "cell_type": "code",
   "execution_count": 88,
   "id": "94ffdfe5",
   "metadata": {},
   "outputs": [
    {
     "name": "stdout",
     "output_type": "stream",
     "text": [
      "Final values:\n",
      "\n",
      " w0 = -6.13534 \n",
      " w1 = 1.68138\n",
      " w2 = 5.34093 \n",
      "\n"
     ]
    }
   ],
   "source": [
    "w0 , w1, w2 = 0,0,0      # weights initilization \n",
    "\n",
    "alpha = 0.001           # learning rate \n",
    "\n",
    "\n",
    "epochs = 10000          # number of iteration/epochs\n",
    "\n",
    "n = df.shape[0]         # number of training examples\n",
    "\n",
    "\n",
    "#variable to store cost of predicted values\n",
    "costs = []\n",
    "\n",
    "\n",
    "# Run the `for` loop \n",
    "for i in range(epochs):\n",
    "    f_x = w0 + w1*x1 + w2*x2       #    get predictions from our model equation: f_x = w0 + w1*x1 + w2*x2\n",
    "    \n",
    "    # Calculate the gradient of the cost function wrt w1\n",
    "    d_w1 = (-2/n) * sum(x1 * (y - f_x))\n",
    "    \n",
    "    # Calculate the gradient of the cost function wrt w2\n",
    "    d_w2 = (-2/n) * sum(x2 * (y - f_x))\n",
    "    \n",
    "    \n",
    "    # Calculate the gradient of the cost function wrt w0(bias/intercept)\n",
    "    d_w0 = (-2/n) * sum((y - f_x))\n",
    "    \n",
    "    w1 = w1 - alpha * d_w1  # Update w1 value\n",
    "    \n",
    "    w2 = w2 - alpha * d_w2  # Update w2 value\n",
    "    \n",
    "    w0 = w0 - alpha * d_w0  # Update w0 value\n",
    "    \n",
    "    \n",
    "    # Calculate and store the current cost\n",
    "    cost = (1/n) * sum((f_x - y)**2)\n",
    "    costs.append(cost)\n",
    "    \n",
    "#    print(f_x)\n",
    "\n",
    "print(\"Final values:\\n\\n w0 = {:.5f} \\n w1 = {:.5f}\\n w2 = {:.5f} \\n\".format(w0, w1,w2))"
   ]
  },
  {
   "cell_type": "code",
   "execution_count": 89,
   "id": "7f3bbe07",
   "metadata": {},
   "outputs": [
    {
     "data": {
      "image/png": "[encoded data removed]",
      "text/plain": [
       "<Figure size 1440x720 with 1 Axes>"
      ]
     },
     "metadata": {
      "needs_background": "light"
     },
     "output_type": "display_data"
    }
   ],
   "source": [
    "import matplotlib.pyplot as plt\n",
    "plt.figure(figsize=(20,10))\n",
    "\n",
    "# plot the cost vs epochs\n",
    "plt.plot(range(epochs), costs)\n",
    "plt.xlabel('Epochs')\n",
    "plt.ylabel('Cost')\n",
    "plt.title('Cost vs Epochs: Gradient Descent')\n",
    "plt.show()\n"
   ]
  },
  {
   "cell_type": "code",
   "execution_count": null,
   "id": "373249ea",
   "metadata": {},
   "outputs": [],
   "source": []
  },
  {
   "cell_type": "code",
   "execution_count": null,
   "id": "81272a30",
   "metadata": {},
   "outputs": [],
   "source": []
  },
  {
   "cell_type": "code",
   "execution_count": null,
   "id": "49a97a6e",
   "metadata": {},
   "outputs": [],
   "source": []
  },
  {
   "cell_type": "code",
   "execution_count": null,
   "id": "076873b0",
   "metadata": {},
   "outputs": [],
   "source": []
  },
  {
   "cell_type": "markdown",
   "id": "ff0f4f4d",
   "metadata": {},
   "source": [
    "### Stochastic Gradient Descent:\n",
    "\n",
    "\n",
    "\\begin{equation}\n",
    "w_{t+1} = w_t - \\alpha \\nabla f_i(w_t)\n",
    "\\end{equation}\n",
    "\n",
    "\n",
    "where \n",
    "- $i$ is a randomly chosen index from the training set\n",
    "- $\\nabla f_i(w_t)$ is the gradient of the loss function $f$ with respect to $w_t$ for the training example indexed by $i$.\n",
    "\n",
    "\n",
    "<img src='images/SGD.png' height=750px width=750px>"
   ]
  },
  {
   "cell_type": "code",
   "execution_count": null,
   "id": "3ce79309",
   "metadata": {},
   "outputs": [],
   "source": []
  },
  {
   "cell_type": "code",
   "execution_count": 90,
   "id": "8d12dc6f",
   "metadata": {},
   "outputs": [
    {
     "name": "stdout",
     "output_type": "stream",
     "text": [
      "Final values:\n",
      "\n",
      " w0 = -6.10130 \n",
      " w1 = 1.91444\n",
      " w2 = 5.54174 \n",
      "\n"
     ]
    }
   ],
   "source": [
    "w0 , w1, w2 = 0,0,0      # weights initialization \n",
    "alpha = 0.001           # learning rate \n",
    "epochs = 10000          # number of iteration/epochs\n",
    "n = df.shape[0]         # number of training examples\n",
    "\n",
    "#variable to store cost of predicted values\n",
    "costs = []\n",
    "\n",
    "#`for` loop for Stochastic Gradient Descent\n",
    "for i in range(epochs):\n",
    "    # Select a random index from the training examples\n",
    "    idx = np.random.randint(0, n)\n",
    "    \n",
    "    # Get the corresponding input values\n",
    "    x1_i, x2_i, y_i = x1[idx], x2[idx], y[idx]\n",
    "    \n",
    "    # Get the prediction for the current input using the current weights\n",
    "    f_x = w0 + w1*x1_i + w2*x2_i\n",
    "    \n",
    "    # Calculate the gradient of the cost function wrt w1 for the current input\n",
    "    d_w1 = (-2) * x1_i * (y_i - f_x)\n",
    "    \n",
    "    # Calculate the gradient of the cost function wrt w2 for the current input\n",
    "    d_w2 = (-2) * x2_i * (y_i - f_x)\n",
    "    \n",
    "    # Calculate the gradient of the cost function wrt w0 (bias/intercept) for the current input\n",
    "    d_w0 = (-2) * (y_i - f_x)\n",
    "    \n",
    "    # Update the weights\n",
    "    w1 = w1 - alpha * d_w1  \n",
    "    w2 = w2 - alpha * d_w2  \n",
    "    w0 = w0 - alpha * d_w0  \n",
    "    \n",
    "    # Calculate and store the current cost\n",
    "    cost = (1/n) * sum((w0 + w1*x1 + w2*x2 - y)**2)\n",
    "    costs.append(cost)\n",
    "\n",
    "print(\"Final values:\\n\\n w0 = {:.5f} \\n w1 = {:.5f}\\n w2 = {:.5f} \\n\".format(w0, w1,w2))"
   ]
  },
  {
   "cell_type": "code",
   "execution_count": 91,
   "id": "003189da",
   "metadata": {},
   "outputs": [
    {
     "data": {
      "image/png": "[encoded data removed]",
      "text/plain": [
       "<Figure size 1440x720 with 1 Axes>"
      ]
     },
     "metadata": {
      "needs_background": "light"
     },
     "output_type": "display_data"
    }
   ],
   "source": [
    "import matplotlib.pyplot as plt\n",
    "\n",
    "plt.figure(figsize=(20,10))\n",
    "# plot the cost vs epochs\n",
    "plt.plot(range(epochs), costs)\n",
    "plt.xlabel('Epochs')\n",
    "plt.ylabel('Cost')\n",
    "plt.title('Cost vs Epochs: Stochastic Gradient Descent')\n",
    "plt.show()\n"
   ]
  },
  {
   "cell_type": "code",
   "execution_count": null,
   "id": "266eb2e3",
   "metadata": {},
   "outputs": [],
   "source": []
  },
  {
   "cell_type": "code",
   "execution_count": null,
   "id": "55e5b1a6",
   "metadata": {},
   "outputs": [],
   "source": []
  },
  {
   "attachments": {},
   "cell_type": "markdown",
   "id": "14480fbe",
   "metadata": {},
   "source": [
    "### Mini-batch Gradient Descent:\n",
    "\n",
    "\\begin{equation}\n",
    "w_{t+1} = w_t - \\alpha \\nabla f_{B_t}(w_t)\n",
    "\\end{equation}\n",
    "\n",
    "where \n",
    "- $B_t$ is a randomly chosen mini-batch of examples from the training set\n",
    "- $\\nabla f_{B_t}(w_t)$ is the average gradient of the loss function $f$ with respect to $w_t$ for the examples in the mini-batch $B_t$.\n",
    "\n",
    "\n",
    "<img src=\"images/MGD.png\" height=750px width=750px>"
   ]
  },
  {
   "cell_type": "code",
   "execution_count": 92,
   "id": "4c7e5418",
   "metadata": {},
   "outputs": [
    {
     "name": "stdout",
     "output_type": "stream",
     "text": [
      "Final values:\n",
      "\n",
      " w0 = -6.17210 \n",
      " w1 = 1.65518\n",
      " w2 = 5.32431 \n",
      "\n"
     ]
    }
   ],
   "source": [
    "# first input feature\n",
    "x1 = df.number_courses.values\n",
    "\n",
    "# second input feature\n",
    "x2 = df.time_study.values\n",
    "\n",
    "# output feature\n",
    "y = df.Marks.values\n",
    "\n",
    "# weights initialization\n",
    "w0, w1, w2 = 0, 0, 0\n",
    "\n",
    "# hyperparameters\n",
    "alpha = 0.001\n",
    "epochs = 10000\n",
    "batch_size = 32   # set the batch size\n",
    "\n",
    "# number of training examples\n",
    "n = df.shape[0]\n",
    "\n",
    "# variable to store cost of predicted values\n",
    "costs = []\n",
    "\n",
    "# Mini-Batch Gradient Descent Algorithm\n",
    "for i in range(epochs):\n",
    "    \n",
    "    # create a batch\n",
    "    random_indices = np.random.randint(n, size=batch_size)   # select random indices\n",
    "    batch_x1 = x1[random_indices]\n",
    "    batch_x2 = x2[random_indices]\n",
    "    batch_y = y[random_indices]\n",
    "    \n",
    "    f_x = w0 + w1*batch_x1 + w2*batch_x2   # get predictions from our model equation\n",
    "    \n",
    "    # Calculate the gradients of the cost function wrt w1 and w2\n",
    "    d_w1 = (-2/batch_size) * sum(batch_x1 * (batch_y - f_x))\n",
    "    d_w2 = (-2/batch_size) * sum(batch_x2 * (batch_y - f_x))\n",
    "    \n",
    "    # Calculate the gradient of the cost function wrt w0(bias/intercept)\n",
    "    d_w0 = (-2/batch_size) * sum((batch_y - f_x))\n",
    "    \n",
    "    # Update w1, w2, and w0 values\n",
    "    w1 = w1 - alpha * d_w1\n",
    "    w2 = w2 - alpha * d_w2\n",
    "    w0 = w0 - alpha * d_w0\n",
    "    \n",
    "    # Calculate and store the current cost\n",
    "    batch_f_x = w0 + w1*batch_x1 + w2*batch_x2\n",
    "    batch_cost = (1/batch_size) * sum((batch_f_x - batch_y)**2)\n",
    "    costs.append(batch_cost)\n",
    "\n",
    "print(\"Final values:\\n\\n w0 = {:.5f} \\n w1 = {:.5f}\\n w2 = {:.5f} \\n\".format(w0, w1, w2))\n"
   ]
  },
  {
   "cell_type": "code",
   "execution_count": 93,
   "id": "a15077cb",
   "metadata": {},
   "outputs": [
    {
     "data": {
      "image/png": "[encoded data removed]",
      "text/plain": [
       "<Figure size 1440x720 with 1 Axes>"
      ]
     },
     "metadata": {
      "needs_background": "light"
     },
     "output_type": "display_data"
    }
   ],
   "source": [
    "import matplotlib.pyplot as plt\n",
    "\n",
    "plt.figure(figsize=(20,10))\n",
    "# plot the cost vs epochs\n",
    "plt.plot(range(epochs), costs)\n",
    "plt.xlabel('Epochs')\n",
    "plt.ylabel('Cost')\n",
    "plt.title('Cost vs Epochs: Mini-Batch Gradient Descent')\n",
    "plt.show()\n"
   ]
  },
  {
   "cell_type": "code",
   "execution_count": null,
   "id": "0a616fac",
   "metadata": {},
   "outputs": [],
   "source": []
  },
  {
   "cell_type": "code",
   "execution_count": null,
   "id": "c142d733",
   "metadata": {},
   "outputs": [],
   "source": []
  },
  {
   "cell_type": "code",
   "execution_count": null,
   "id": "912bdb0d",
   "metadata": {},
   "outputs": [],
   "source": []
  },
  {
   "cell_type": "code",
   "execution_count": null,
   "id": "596dcc53",
   "metadata": {},
   "outputs": [],
   "source": []
  },
  {
   "cell_type": "markdown",
   "id": "f6e623ef",
   "metadata": {},
   "source": [
    "## Cont......"
   ]
  },
  {
   "cell_type": "code",
   "execution_count": null,
   "id": "af32c1bc",
   "metadata": {},
   "outputs": [],
   "source": []
  }
 ],
 "metadata": {
  "kernelspec": {
   "display_name": "Python 3 (ipykernel)",
   "language": "python",
   "name": "python3"
  },
  "language_info": {
   "codemirror_mode": {
    "name": "ipython",
    "version": 3
   },
   "file_extension": ".py",
   "mimetype": "text/x-python",
   "name": "python",
   "nbconvert_exporter": "python",
   "pygments_lexer": "ipython3",
   "version": "3.8.10"
  }
 },
 "nbformat": 4,
 "nbformat_minor": 5
}
